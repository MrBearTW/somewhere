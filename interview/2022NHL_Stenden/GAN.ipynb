{
 "cells": [
  {
   "cell_type": "code",
   "execution_count": 1,
   "id": "5773a872",
   "metadata": {},
   "outputs": [],
   "source": [
    "import torch\n",
    "from torch import nn\n",
    "\n",
    "import math\n",
    "import matplotlib.pyplot as plt"
   ]
  },
  {
   "cell_type": "code",
   "execution_count": 2,
   "id": "0dbff9b6",
   "metadata": {},
   "outputs": [
    {
     "data": {
      "text/plain": [
       "<torch._C.Generator at 0x1df875754b0>"
      ]
     },
     "execution_count": 2,
     "metadata": {},
     "output_type": "execute_result"
    }
   ],
   "source": [
    "torch.manual_seed(111)"
   ]
  },
  {
   "cell_type": "code",
   "execution_count": 3,
   "id": "21af9992",
   "metadata": {},
   "outputs": [],
   "source": [
    "train_data_length = 1024\n",
    "train_data = torch.zeros((train_data_length, 2))\n",
    "train_data[:, 0] = 2 * math.pi * torch.rand(train_data_length)\n",
    "train_data[:, 1] = torch.sin(train_data[:, 0])\n",
    "train_labels = torch.zeros(train_data_length)\n",
    "train_set = [\n",
    "    (train_data[i], train_labels[i]) for i in range(train_data_length)\n",
    "]"
   ]
  },
  {
   "cell_type": "code",
   "execution_count": 4,
   "id": "6537d705",
   "metadata": {},
   "outputs": [
    {
     "data": {
      "text/plain": [
       "[<matplotlib.lines.Line2D at 0x1df8bb08cf8>]"
      ]
     },
     "execution_count": 4,
     "metadata": {},
     "output_type": "execute_result"
    },
    {
     "data": {
      "image/png": "[encoded data removed]",
      "text/plain": [
       "<Figure size 432x288 with 1 Axes>"
      ]
     },
     "metadata": {
      "needs_background": "light"
     },
     "output_type": "display_data"
    }
   ],
   "source": [
    "plt.plot(train_data[:, 0], train_data[:, 1], \".\")"
   ]
  },
  {
   "cell_type": "code",
   "execution_count": 5,
   "id": "80a14b43",
   "metadata": {},
   "outputs": [],
   "source": [
    "batch_size = 32\n",
    "train_loader = torch.utils.data.DataLoader(\n",
    "    train_set, batch_size=batch_size, shuffle=True\n",
    ")"
   ]
  },
  {
   "cell_type": "code",
   "execution_count": null,
   "id": "dbc5073e",
   "metadata": {},
   "outputs": [],
   "source": [
    "# Implementing the Discriminator"
   ]
  },
  {
   "cell_type": "code",
   "execution_count": 6,
   "id": "3cd8d0f7",
   "metadata": {},
   "outputs": [],
   "source": [
    "class Discriminator(nn.Module):\n",
    "    def __init__(self):\n",
    "        super().__init__()\n",
    "        self.model = nn.Sequential(\n",
    "            nn.Linear(2, 256),\n",
    "            nn.ReLU(),\n",
    "            nn.Dropout(0.3),\n",
    "            nn.Linear(256, 128),\n",
    "            nn.ReLU(),\n",
    "            nn.Dropout(0.3),\n",
    "            nn.Linear(128, 64),\n",
    "            nn.ReLU(),\n",
    "            nn.Dropout(0.3),\n",
    "            nn.Linear(64, 1),\n",
    "            nn.Sigmoid(),\n",
    "        )\n",
    "\n",
    "    def forward(self, x):\n",
    "        output = self.model(x)\n",
    "        return output"
   ]
  },
  {
   "cell_type": "code",
   "execution_count": 7,
   "id": "55bccc1e",
   "metadata": {},
   "outputs": [],
   "source": [
    "discriminator = Discriminator()"
   ]
  },
  {
   "cell_type": "code",
   "execution_count": null,
   "id": "f8726b87",
   "metadata": {},
   "outputs": [],
   "source": [
    "# Implementing the Generator"
   ]
  },
  {
   "cell_type": "code",
   "execution_count": 8,
   "id": "39fe25a1",
   "metadata": {},
   "outputs": [],
   "source": [
    "class Generator(nn.Module):\n",
    "    def __init__(self):\n",
    "        super().__init__()\n",
    "        self.model = nn.Sequential(\n",
    "            nn.Linear(2, 16),\n",
    "            nn.ReLU(),\n",
    "            nn.Linear(16, 32),\n",
    "            nn.ReLU(),\n",
    "            nn.Linear(32, 2),\n",
    "        )\n",
    "\n",
    "    def forward(self, x):\n",
    "        output = self.model(x)\n",
    "        return output\n",
    "\n",
    "generator = Generator()"
   ]
  },
  {
   "cell_type": "code",
   "execution_count": null,
   "id": "dc6bcb44",
   "metadata": {},
   "outputs": [],
   "source": [
    "# Training the Models"
   ]
  },
  {
   "cell_type": "code",
   "execution_count": 9,
   "id": "5ed19271",
   "metadata": {},
   "outputs": [],
   "source": [
    "lr = 0.001\n",
    "num_epochs = 300\n",
    "loss_function = nn.BCELoss()"
   ]
  },
  {
   "cell_type": "code",
   "execution_count": 10,
   "id": "6fabe6f7",
   "metadata": {},
   "outputs": [],
   "source": [
    "optimizer_discriminator = torch.optim.Adam(discriminator.parameters(), lr=lr)\n",
    "optimizer_generator = torch.optim.Adam(generator.parameters(), lr=lr)"
   ]
  },
  {
   "cell_type": "code",
   "execution_count": 11,
   "id": "7d9cd17b",
   "metadata": {},
   "outputs": [
    {
     "name": "stdout",
     "output_type": "stream",
     "text": [
      "Epoch: 0 Loss D.: 0.15659494698047638\n",
      "Epoch: 0 Loss G.: 2.125444173812866\n",
      "Epoch: 10 Loss D.: 0.7301512360572815\n",
      "Epoch: 10 Loss G.: 0.8579632639884949\n",
      "Epoch: 20 Loss D.: 0.578532874584198\n",
      "Epoch: 20 Loss G.: 1.1377497911453247\n",
      "Epoch: 30 Loss D.: 0.5409417748451233\n",
      "Epoch: 30 Loss G.: 0.9305326342582703\n",
      "Epoch: 40 Loss D.: 0.5949755311012268\n",
      "Epoch: 40 Loss G.: 1.3337976932525635\n",
      "Epoch: 50 Loss D.: 0.693035364151001\n",
      "Epoch: 50 Loss G.: 0.7126914262771606\n",
      "Epoch: 60 Loss D.: 0.6452015042304993\n",
      "Epoch: 60 Loss G.: 0.782519519329071\n",
      "Epoch: 70 Loss D.: 0.6698064804077148\n",
      "Epoch: 70 Loss G.: 0.8604660034179688\n",
      "Epoch: 80 Loss D.: 0.696573793888092\n",
      "Epoch: 80 Loss G.: 0.6781110167503357\n",
      "Epoch: 90 Loss D.: 0.612230658531189\n",
      "Epoch: 90 Loss G.: 1.0752038955688477\n",
      "Epoch: 100 Loss D.: 0.6214116811752319\n",
      "Epoch: 100 Loss G.: 1.016105055809021\n",
      "Epoch: 110 Loss D.: 0.6966380476951599\n",
      "Epoch: 110 Loss G.: 0.7932130694389343\n",
      "Epoch: 120 Loss D.: 0.6194749474525452\n",
      "Epoch: 120 Loss G.: 0.6909736394882202\n",
      "Epoch: 130 Loss D.: 0.6641302108764648\n",
      "Epoch: 130 Loss G.: 0.6286941170692444\n",
      "Epoch: 140 Loss D.: 0.5939448475837708\n",
      "Epoch: 140 Loss G.: 0.9863195419311523\n",
      "Epoch: 150 Loss D.: 0.6489306688308716\n",
      "Epoch: 150 Loss G.: 0.8424891233444214\n",
      "Epoch: 160 Loss D.: 0.7340704202651978\n",
      "Epoch: 160 Loss G.: 0.6353129148483276\n",
      "Epoch: 170 Loss D.: 0.6694091558456421\n",
      "Epoch: 170 Loss G.: 0.7617849707603455\n",
      "Epoch: 180 Loss D.: 0.6403949856758118\n",
      "Epoch: 180 Loss G.: 0.884213387966156\n",
      "Epoch: 190 Loss D.: 0.6928409337997437\n",
      "Epoch: 190 Loss G.: 0.7965672016143799\n",
      "Epoch: 200 Loss D.: 0.5568792223930359\n",
      "Epoch: 200 Loss G.: 0.9436861276626587\n",
      "Epoch: 210 Loss D.: 0.5869640707969666\n",
      "Epoch: 210 Loss G.: 1.307977557182312\n",
      "Epoch: 220 Loss D.: 0.6544931530952454\n",
      "Epoch: 220 Loss G.: 0.6704124808311462\n",
      "Epoch: 230 Loss D.: 0.6564791798591614\n",
      "Epoch: 230 Loss G.: 0.7282795310020447\n",
      "Epoch: 240 Loss D.: 0.7089259028434753\n",
      "Epoch: 240 Loss G.: 0.7400611042976379\n",
      "Epoch: 250 Loss D.: 0.6927780508995056\n",
      "Epoch: 250 Loss G.: 0.7900977730751038\n",
      "Epoch: 260 Loss D.: 0.5876989364624023\n",
      "Epoch: 260 Loss G.: 0.9312207698822021\n",
      "Epoch: 270 Loss D.: 0.5669862627983093\n",
      "Epoch: 270 Loss G.: 1.0584872961044312\n",
      "Epoch: 280 Loss D.: 0.6304464936256409\n",
      "Epoch: 280 Loss G.: 0.8364502787590027\n",
      "Epoch: 290 Loss D.: 0.6977341175079346\n",
      "Epoch: 290 Loss G.: 0.784596860408783\n"
     ]
    }
   ],
   "source": [
    "for epoch in range(num_epochs):\n",
    "    for n, (real_samples, _) in enumerate(train_loader):\n",
    "        # Data for training the discriminator\n",
    "        real_samples_labels = torch.ones((batch_size, 1))\n",
    "        latent_space_samples = torch.randn((batch_size, 2))\n",
    "        generated_samples = generator(latent_space_samples)\n",
    "        generated_samples_labels = torch.zeros((batch_size, 1))\n",
    "        all_samples = torch.cat((real_samples, generated_samples))\n",
    "        all_samples_labels = torch.cat(\n",
    "            (real_samples_labels, generated_samples_labels)\n",
    "        )\n",
    "\n",
    "        # Training the discriminator\n",
    "        discriminator.zero_grad()\n",
    "        output_discriminator = discriminator(all_samples)\n",
    "        loss_discriminator = loss_function(\n",
    "            output_discriminator, all_samples_labels)\n",
    "        loss_discriminator.backward()\n",
    "        optimizer_discriminator.step()\n",
    "\n",
    "        # Data for training the generator\n",
    "        latent_space_samples = torch.randn((batch_size, 2))\n",
    "\n",
    "        # Training the generator\n",
    "        generator.zero_grad()\n",
    "        generated_samples = generator(latent_space_samples)\n",
    "        output_discriminator_generated = discriminator(generated_samples)\n",
    "        loss_generator = loss_function(\n",
    "            output_discriminator_generated, real_samples_labels\n",
    "        )\n",
    "        loss_generator.backward()\n",
    "        optimizer_generator.step()\n",
    "\n",
    "        # Show loss\n",
    "        if epoch % 10 == 0 and n == batch_size - 1:\n",
    "            print(f\"Epoch: {epoch} Loss D.: {loss_discriminator}\")\n",
    "            print(f\"Epoch: {epoch} Loss G.: {loss_generator}\")"
   ]
  },
  {
   "cell_type": "code",
   "execution_count": 12,
   "id": "cd6faa0f",
   "metadata": {},
   "outputs": [],
   "source": [
    "latent_space_samples = torch.randn(100, 2)\n",
    "generated_samples = generator(latent_space_samples)"
   ]
  },
  {
   "cell_type": "code",
   "execution_count": 13,
   "id": "1480f1c1",
   "metadata": {},
   "outputs": [
    {
     "data": {
      "text/plain": [
       "[<matplotlib.lines.Line2D at 0x1df8bc2b518>]"
      ]
     },
     "execution_count": 13,
     "metadata": {},
     "output_type": "execute_result"
    },
    {
     "data": {
      "image/png": "[encoded data removed]",
      "text/plain": [
       "<Figure size 432x288 with 1 Axes>"
      ]
     },
     "metadata": {
      "needs_background": "light"
     },
     "output_type": "display_data"
    }
   ],
   "source": [
    "generated_samples = generated_samples.detach()\n",
    "plt.plot(generated_samples[:, 0], generated_samples[:, 1], \".\")"
   ]
  },
  {
   "cell_type": "code",
   "execution_count": null,
   "id": "befbf408",
   "metadata": {},
   "outputs": [],
   "source": []
  }
 ],
 "metadata": {
  "kernelspec": {
   "display_name": "gan",
   "language": "python",
   "name": "gan"
  },
  "language_info": {
   "codemirror_mode": {
    "name": "ipython",
    "version": 3
   },
   "file_extension": ".py",
   "mimetype": "text/x-python",
   "name": "python",
   "nbconvert_exporter": "python",
   "pygments_lexer": "ipython3",
   "version": "3.6.13"
  }
 },
 "nbformat": 4,
 "nbformat_minor": 5
}
