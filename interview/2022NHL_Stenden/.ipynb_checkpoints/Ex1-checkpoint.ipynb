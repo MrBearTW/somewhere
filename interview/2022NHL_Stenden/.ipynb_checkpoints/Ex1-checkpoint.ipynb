{
 "cells": [
  {
   "cell_type": "code",
   "execution_count": null,
   "id": "673426b5",
   "metadata": {},
   "outputs": [],
   "source": [
    "# You can copy this code to your personal pipeline project or execute it here.\n",
    "def id_to_fruit(fruit_id: int, fruits: Set[str]) -> str:\n",
    "    \"\"\"\n",
    "    This method returns the fruit name by getting the string at a specific index of the set.\n",
    "\n",
    "    :param fruit_id: The id of the fruit to get\n",
    "    :param fruits: The set of fruits to choose the id from\n",
    "    :return: The string corrosponding to the index ``fruit_id``\n",
    "\n",
    "    **This method is part of a series of debugging exercises.**\n",
    "    **Each Python method of this series contains bug that needs to be found.**\n",
    "\n",
    "    | ``1   It does not print the fruit at the correct index, why is the returned result wrong?``\n",
    "    | ``2   How could this be fixed?``\n",
    "\n",
    "    This example demonstrates the issue:\n",
    "    name1, name3 and name4 are expected to correspond to the strings at the indices 1, 3, and 4:\n",
    "    'orange', 'kiwi' and 'strawberry'..\n",
    "\n",
    "    >>> name1 = id_to_fruit(1, {\"apple\", \"orange\", \"melon\", \"kiwi\", \"strawberry\"})\n",
    "    >>> name3 = id_to_fruit(3, {\"apple\", \"orange\", \"melon\", \"kiwi\", \"strawberry\"})\n",
    "    >>> name4 = id_to_fruit(4, {\"apple\", \"orange\", \"melon\", \"kiwi\", \"strawberry\"})\n",
    "    \"\"\"\n",
    "    idx = 0\n",
    "    for fruit in fruits:\n",
    "        if fruit_id == idx:\n",
    "            return fruit\n",
    "        idx += 1\n",
    "    raise RuntimeError(f\"Fruit with id {fruit_id} does not exist\")"
   ]
  },
  {
   "cell_type": "code",
   "execution_count": null,
   "id": "6f15921a",
   "metadata": {
    "scrolled": true
   },
   "outputs": [],
   "source": [
    "name1 = id_to_fruit(1, {\"apple\", \"orange\", \"melon\", \"kiwi\", \"strawberry\"})\n",
    "name3 = id_to_fruit(3, {\"apple\", \"orange\", \"melon\", \"kiwi\", \"strawberry\"})\n",
    "name4 = id_to_fruit(4, {\"apple\", \"orange\", \"melon\", \"kiwi\", \"strawberry\"})"
   ]
  },
  {
   "cell_type": "code",
   "execution_count": 62,
   "id": "77c15e65",
   "metadata": {
    "scrolled": true
   },
   "outputs": [
    {
     "name": "stdout",
     "output_type": "stream",
     "text": [
      "strawberry\n",
      "apple\n",
      "kiwi\n",
      "melon\n",
      "orange\n"
     ]
    }
   ],
   "source": [
    "# method 1\n",
    "# use set {} to list []\n",
    "\n",
    "fruits =  {\"apple\", \"orange\", \"melon\", \"kiwi\", \"strawberry\"}\n",
    "fruits = list(fruits)    #fruits =  ['strawberry', 'apple', 'kiwi', 'melon', 'orange']\n",
    "\n",
    "#idx = 0\n",
    "for fruit in fruits:\n",
    "    #if fruit_id == idx:\n",
    "        #return fruits[fruit_id]\n",
    "    #return fruit\n",
    "    print(fruit)\n",
    "    #idx += 1\n",
    "#raise RuntimeError(f\"Fruit with id {fruit_id} does not exist\")"
   ]
  },
  {
   "cell_type": "code",
   "execution_count": 64,
   "id": "142c1895",
   "metadata": {
    "scrolled": true
   },
   "outputs": [
    {
     "name": "stdout",
     "output_type": "stream",
     "text": [
      "apple\n",
      "melon\n",
      "orange\n"
     ]
    }
   ],
   "source": [
    "# method 1\n",
    "# use set {} to list []\n",
    "\n",
    "fruits =  {\"apple\", \"orange\", \"melon\", \"kiwi\", \"strawberry\"}\n",
    "fruits = list(fruits)    \n",
    "\n",
    "def id_to_fruit(fruit_id, fruits):\n",
    "    if fruit_id < len(fruits):\n",
    "        print(fruits[fruit_id])\n",
    "    else:\n",
    "        raise RuntimeError(\"Fruit with id\", {fruit_id}, \"does not exist\")\n",
    "    \n",
    "name1 = id_to_fruit(1, fruits)\n",
    "name3 = id_to_fruit(3, fruits)\n",
    "name4 = id_to_fruit(4, fruits)\n",
    "#name9 = id_to_fruit(9, fruits)\n",
    "\n",
    "# set {} to list [] \n",
    "    # fruits =  ['strawberry', 'apple', 'kiwi', 'melon', 'orange']\n",
    "    # Note: - Here order of the list can be random and not in a sorted manner necessarily.\n",
    "    # Reference: https://favtutor.com/blogs/set-to-list-python"
   ]
  },
  {
   "cell_type": "code",
   "execution_count": 58,
   "id": "3f3f136b",
   "metadata": {},
   "outputs": [
    {
     "name": "stdout",
     "output_type": "stream",
     "text": [
      "orange\n",
      "kiwi\n",
      "strawberry\n"
     ]
    }
   ],
   "source": [
    "# method 2\n",
    "# use { } Dictionaries\n",
    "# Reference: https://docs.python.org/3/tutorial/datastructures.html#dictionaries\n",
    "\n",
    "fruits =  {0:\"apple\", 1:\"orange\", 2:\"melon\", 3:\"kiwi\", 4:\"strawberry\"}\n",
    "\n",
    "def id_to_fruit2(fruit_id, fruits):\n",
    "    if fruit_id in fruits.keys():\n",
    "        #return(fruits[fruit_id]);\n",
    "        print(fruits[fruit_id])\n",
    "    else:\n",
    "        raise RuntimeError(\"Fruit with id\", {fruit_id}, \"does not exist\")\n",
    "\n",
    "name1 = id_to_fruit2(1, fruits)\n",
    "name3 = id_to_fruit2(3, fruits)\n",
    "name4 = id_to_fruit2(4, fruits)\n",
    "#name9 = id_to_fruit2(9, fruits)"
   ]
  },
  {
   "cell_type": "code",
   "execution_count": null,
   "id": "2c5e98a2",
   "metadata": {},
   "outputs": [],
   "source": []
  }
 ],
 "metadata": {
  "interpreter": {
   "hash": "6d46af94c2bbce495f1e668725902fa517c90b1782bcfe2fce0dd9868df553d3"
  },
  "kernelspec": {
   "display_name": "Python 3",
   "language": "python",
   "name": "python3"
  },
  "language_info": {
   "codemirror_mode": {
    "name": "ipython",
    "version": 3
   },
   "file_extension": ".py",
   "mimetype": "text/x-python",
   "name": "python",
   "nbconvert_exporter": "python",
   "pygments_lexer": "ipython3",
   "version": "3.6.13"
  }
 },
 "nbformat": 4,
 "nbformat_minor": 5
}
