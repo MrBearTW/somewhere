{
 "cells": [
  {
   "cell_type": "code",
   "execution_count": null,
   "id": "f8c7f553",
   "metadata": {},
   "outputs": [],
   "source": [
    "Exercise 2\n",
    "This method will flip the x and y coordinates in the coords array.\n",
    "\n",
    "param coords\n",
    "A numpy array of bounding box coordinates with shape [n,5] in format: :\n",
    "\n",
    "[[x11, y11, x12, y12, classid1],\n",
    " [x21, y21, x22, y22, classid2],\n",
    " ...\n",
    " [xn1, yn1, xn2, yn2, classid3]]\n",
    "return\n",
    "The new numpy array where the x and y coordinates are flipped.\n",
    "\n",
    "This method is part of a series of debugging exercises. Each Python method of this series contains bug that needs to be found.\n",
    "\n",
    "1   Can you spot the obvious error?\n",
    "2   After fixing the obvious error it is still wrong, how can this be fixed?\n",
    "\n",
    "The example demonstrates the issue. The returned swapped_coords are expected to have swapped x and y coordinates in each of the rows."
   ]
  },
  {
   "cell_type": "code",
   "execution_count": null,
   "id": "88c3edd8",
   "metadata": {},
   "outputs": [],
   "source": [
    "# You can copy this code to your personal pipeline project or execute it here.\n",
    "def swap(coords: np.ndarray):\n",
    "    \"\"\"\n",
    "    This method will flip the x and y coordinates in the coords array.\n",
    "\n",
    "    :param coords: A numpy array of bounding box coordinates with shape [n,5] in format:\n",
    "        ::\n",
    "\n",
    "            [[x11, y11, x12, y12, classid1],\n",
    "             [x21, y21, x22, y22, classid2],\n",
    "             ...\n",
    "             [xn1, yn1, xn2, yn2, classid3]]\n",
    "\n",
    "    :return: The new numpy array where the x and y coordinates are flipped.\n",
    "\n",
    "    **This method is part of a series of debugging exercises.**\n",
    "    **Each Python method of this series contains bug that needs to be found.**\n",
    "\n",
    "    | ``1   Can you spot the obvious error?``\n",
    "    | ``2   After fixing the obvious error it is still wrong, how can this be fixed?``\n",
    "\n",
    "    >>> import numpy as np\n",
    "    >>> coords = np.array([[10, 5, 15, 6, 0],\n",
    "    ...                    [11, 3, 13, 6, 0],\n",
    "    ...                    [5, 3, 13, 6, 1],\n",
    "    ...                    [4, 4, 13, 6, 1],\n",
    "    ...                    [6, 5, 13, 16, 1]])\n",
    "    >>> swapped_coords = swap(coords)\n",
    "\n",
    "    The example demonstrates the issue. The returned swapped_coords are expected to have swapped\n",
    "    x and y coordinates in each of the rows.\n",
    "    \"\"\"\n",
    "    coords[:, 0], coords[:, 1], coords[:, 2], coords[:, 3], = coords[:, 1], coords[:, 1], coords[:, 3], coords[:, 2]\n",
    "    return coords"
   ]
  },
  {
   "cell_type": "code",
   "execution_count": null,
   "id": "eb5b4300",
   "metadata": {},
   "outputs": [],
   "source": [
    "import numpy as np\n",
    "coords = np.array([[10, 5, 15, 6, 0],\n",
    "                   [11, 3, 13, 6, 0],\n",
    "                   [5, 3, 13, 6, 1],\n",
    "                   [4, 4, 13, 6, 1],\n",
    "                   [6, 5, 13, 16, 1]])\n",
    "swapped_coords = swap(coords)"
   ]
  },
  {
   "cell_type": "code",
   "execution_count": null,
   "id": "db0109a4",
   "metadata": {},
   "outputs": [],
   "source": [
    "import numpy as np\n",
    "coords = np.array([[[10, 5], [15, 6], 0],\n",
    "                   [[11, 3], [13, 6], 0],\n",
    "                   [[5, 3], [13, 6], 1],\n",
    "                   [[4, 4], [13, 6], 1],\n",
    "                   [[6, 5],[ 13, 16], 1]])\n",
    "swapped_coords = swap(coords)"
   ]
  },
  {
   "cell_type": "code",
   "execution_count": null,
   "id": "f354164b",
   "metadata": {},
   "outputs": [],
   "source": [
    "# reference https://numpy.org/doc/stable/reference/generated/numpy.flip.html\n",
    "\n",
    "def swap(coords)\n",
    "    coord = 0\n",
    "    for coord in cords\n",
    "    \n",
    "    "
   ]
  },
  {
   "cell_type": "code",
   "execution_count": null,
   "id": "a79d744c",
   "metadata": {},
   "outputs": [],
   "source": [
    "A = np.arange(8).reshape((2,2,2))\n",
    "A\n",
    "array(  [  [  [0, 1], [2, 3]  ], [  [4, 5], [6, 7]  ]  ]  )\n",
    "\n",
    "np.flip(A, 0)  # flip(m, 0) is equivalent to flipud(m).  # Flip an array vertically (axis=0).\n",
    "array([ [[4, 5],[6, 7]],[[0, 1],[2, 3]] ])\n",
    "\n",
    "np.flip(A, 1)  # flip(m, 1) is equivalent to fliplr(m).  # Flip an array horizontally (axis=1).\n",
    "array([[[2, 3],[0, 1]],[[6, 7],[4, 5]]])\n",
    "\n",
    "np.flip(A)\n",
    "array([[[7, 6],[5, 4]],[[3, 2],[1, 0]]])\n",
    "\n",
    "np.flip(A, (0, 2))\n",
    "array([[[5, 4],[7, 6]],[[1, 0],[3, 2]]])\n",
    "\n",
    "A = np.random.randn(3,4,5)\n",
    "np.all(np.flip(A,2) == A[:,:,::-1,...])\n",
    "True"
   ]
  },
  {
   "cell_type": "code",
   "execution_count": 8,
   "id": "a0949021",
   "metadata": {},
   "outputs": [
    {
     "name": "stdout",
     "output_type": "stream",
     "text": [
      "[[[1 0]\n",
      "  [3 2]]\n",
      "\n",
      " [[5 4]\n",
      "  [7 6]]]\n"
     ]
    }
   ],
   "source": [
    "import numpy as np\n",
    "A = np.arange(8).reshape((2,2,2))\n",
    "A = [  [  [0, 1], [2, 3]  ], [  [4, 5], [6, 7]  ]]\n",
    "print(np.flip(A, 2))"
   ]
  },
  {
   "cell_type": "code",
   "execution_count": 12,
   "id": "6eb14b68",
   "metadata": {},
   "outputs": [
    {
     "name": "stdout",
     "output_type": "stream",
     "text": [
      "[[[ 5 10]\n",
      "  [ 6 15]]\n",
      "\n",
      " [[ 3 11]\n",
      "  [ 6 13]]\n",
      "\n",
      " [[ 3  5]\n",
      "  [ 6 13]]\n",
      "\n",
      " [[ 4  4]\n",
      "  [ 6 13]]\n",
      "\n",
      " [[ 5  6]\n",
      "  [16 13]]]\n"
     ]
    }
   ],
   "source": [
    "# metohod 2.\n",
    "# flip\n",
    "\n",
    "import numpy as np\n",
    "\"\"\"\n",
    "A = np.array([[[10, 5], [15, 6], 0],\n",
    "                   [[11, 3], [13, 6], 0],\n",
    "                   [[5, 3], [13, 6], 1],\n",
    "                   [[4, 4], [13, 6], 1],\n",
    "                   [[6, 5],[ 13, 16], 1]])\n",
    "\"\"\"\n",
    "# ?????\n",
    "\n",
    "\n",
    "A = np.array([[[10, 5], [15, 6]],\n",
    "                   [[11, 3], [13, 6]],\n",
    "                   [[5, 3], [13, 6]],\n",
    "                   [[4, 4], [13, 6]],\n",
    "                   [[6, 5],[ 13, 16]]])\n",
    "\n",
    "\n",
    "print(np.flip(A, 2))"
   ]
  },
  {
   "cell_type": "code",
   "execution_count": 61,
   "id": "df34e220",
   "metadata": {},
   "outputs": [
    {
     "name": "stdout",
     "output_type": "stream",
     "text": [
      "None\n"
     ]
    }
   ],
   "source": [
    "# metohod 1.\n",
    "# a,b = b,a\n",
    "\n",
    "import numpy as np\n",
    "coords = np.array([[10, 5, 15, 6, 0],\n",
    "                                       [11, 3, 13, 6, 0],\n",
    "                                       [5, 3, 13, 6, 1],\n",
    "                                       [4, 4, 13, 6, 1],\n",
    "                                       [6, 5, 13, 16, 1]])\n",
    "\n",
    "def swap(coords):\n",
    "    coord = 0\n",
    "    while coord < len(coords):\n",
    "        coords[coord][0], coords[coord][1] = coords[coord][1], coords[coord][0]\n",
    "        coords[coord][2], coords[coord][3] = coords[coord][3], coords[coord][2]\n",
    "        coord += 1;\n",
    "\n",
    "swapped_coords = swap(coords)\n",
    "\n",
    "print(swapped_coords)\n",
    "\n",
    "# ?????"
   ]
  },
  {
   "cell_type": "code",
   "execution_count": 47,
   "id": "0f3cb62d",
   "metadata": {},
   "outputs": [
    {
     "name": "stdout",
     "output_type": "stream",
     "text": [
      "[[ 5 10  6 15  0]\n",
      " [ 5  6 16 13  1]]\n"
     ]
    }
   ],
   "source": [
    "import numpy as np\n",
    "coords = np.array([[10, 5, 15, 6, 0], [6, 5, 13, 16, 1]])\n",
    "\n",
    "coord = 0\n",
    "while coord < len(coords):\n",
    "        coords[coord][0], coords[coord][1] = coords[coord][1], coords[coord][0]\n",
    "        coords[coord][2], coords[coord][3] = coords[coord][3], coords[coord][2]\n",
    "        coord += 1;\n",
    "    \n",
    "print(coords)"
   ]
  },
  {
   "cell_type": "code",
   "execution_count": null,
   "id": "13e4e67f",
   "metadata": {},
   "outputs": [],
   "source": []
  }
 ],
 "metadata": {
  "kernelspec": {
   "display_name": "Python 3 (ipykernel)",
   "language": "python",
   "name": "python3"
  },
  "language_info": {
   "codemirror_mode": {
    "name": "ipython",
    "version": 3
   },
   "file_extension": ".py",
   "mimetype": "text/x-python",
   "name": "python",
   "nbconvert_exporter": "python",
   "pygments_lexer": "ipython3",
   "version": "3.9.7"
  }
 },
 "nbformat": 4,
 "nbformat_minor": 5
}
