{
 "cells": [
  {
   "cell_type": "code",
   "execution_count": null,
   "metadata": {
    "collapsed": true
   },
   "outputs": [],
   "source": [
    "import csv\n",
    "with open('raw_data.csv',encoding='Big5')as f:\n",
    "    for row in csv.reader(f):\n",
    "        print(row)\n"
   ]
  },
  {
   "cell_type": "code",
   "execution_count": 8,
   "metadata": {},
   "outputs": [
    {
     "data": {
      "text/html": [
       "<div>\n",
       "<style>\n",
       "    .dataframe thead tr:only-child th {\n",
       "        text-align: right;\n",
       "    }\n",
       "\n",
       "    .dataframe thead th {\n",
       "        text-align: left;\n",
       "    }\n",
       "\n",
       "    .dataframe tbody tr th {\n",
       "        vertical-align: top;\n",
       "    }\n",
       "</style>\n",
       "<table border=\"1\" class=\"dataframe\">\n",
       "  <thead>\n",
       "    <tr style=\"text-align: right;\">\n",
       "      <th></th>\n",
       "      <th>timestamp                   ; Achats_PC_divers (kW-hr) ; Achats_chauffage (kW-hr) ; Achats_eclairage (kW-hr) ; Ascenseur1 (kW-hr) ; Ascenseur2 (kW-hr) ; CTA_Achats (kW-hr) ; CTA_Achats_LT (kW-hr) ; CTA_Nord_Cour (kW-hr) ; CTA_Nord_Rue (kW-hr) ; CTA_Sud_Cour (kW-hr) ; CTA_Sud_Rue (kW-hr) ; Calorie_ECS (kW-hr) ; Club_PC_divers (kW-hr) ; Club_chauffage (kW-hr) ; Club_eclairage (kW-hr) ; ECS (kW-hr) ; PAC_Nord (kW-hr) ; PAC_Sud (kW-hr) ; Parking_Ascenseur (kW-hr) ; Parking_Divers (kW-hr) ; Parking_EDF (kW-hr) ; Parking_Eclairage (kW-hr) ; Parking_TGS_Ecl (kW-hr) ; Parking_TGS_Ventil (kW-hr) ; Parking_TGS_Ventil2 (kW-hr) ; Parking_TGS_Ventil3 (kW-hr) ; Parking_Vehicule (kW-hr) ; Parking_Ventilation (kW-hr) ; R1_Nord_PC_divers (kW-hr) ; R1_Nord_chauffage (kW-hr) ; R1_Nord_eclairage (kW-hr) ; R1_Sud_PC_divers (kW-hr) ; R1_Sud_chauffage (kW-hr) ; R1_Sud_eclairage (kW-hr) ; R2_Nord_PC_divers (kW-hr) ; R2_Nord_chauffage (kW-hr) ; R2_Nord_eclairage (kW-hr) ; R2_Sud_PC_divers (kW-hr) ; R2_Sud_chauffage (kW-hr) ; R2_Sud_eclairage (kW-hr) ; R3_Nord_PC_divers (kW-hr) ; R3_Nord_chauffage (kW-hr) ; R3_Nord_eclairage (kW-hr) ; R3_Sud_PC_divers (kW-hr) ; R3_Sud_chauffage (kW-hr) ; R3_Sud_eclairage (kW-hr) ; R4_Nord_PC_divers (kW-hr) ; R4_Nord_chauffage (kW-hr) ; R4_Nord_eclairage (kW-hr) ; R4_Sud_PC_divers (kW-hr) ; R4_Sud_chauffage (kW-hr) ; R4_Sud_eclairage (kW-hr) ; R5_Nord_PC_divers (kW-hr) ; R5_Nord_chauffage (kW-hr) ; R5_Nord_eclairage (kW-hr) ; R5_Sud_PC_divers (kW-hr) ; R5_Sud_chauffage (kW-hr) ; R5_Sud_eclairage (kW-hr) ; Regie_PC_divers (kW-hr) ; Regie_chauffage (kW-hr) ; Regie_eclairage (kW-hr) ; Resto_CTA (kW-hr) ; Resto_EDF (kW-hr) ; Resto_Pompe (kW-hr) ; TGBT_CVC1 (kW-hr) ; TGBT_Ecl_Commun (kW-hr) ; TGBT_PC_Commun (kW-hr) ; TGBT_Resto_Chauf (kW-hr) ; TGBT_Resto_ECS (kW-hr) ; TGBT_Resto_Ecl_1 (kW-hr) ; TGBT_Resto_Ecl_2 (kW-hr) ; TGBT_Resto_Force (kW-hr) ; TGBT_Resto_PC_1 (kW-hr) ; TGBT_Resto_PC_2 (kW-hr) ; TGBT_Tarif_vert (kW-hr) ; Unite_Ext_RIE (kW-hr) ; VRV1 (kW-hr) ; VRV2 (kW-hr) ; TGBT_Resto_Ecl_3 (kW-hr) ; TGBT_Resto_Ecl_4 (kW-hr)</th>\n",
       "    </tr>\n",
       "  </thead>\n",
       "  <tbody>\n",
       "    <tr>\n",
       "      <th>0</th>\n",
       "      <td>--------------------------- ; ----------------...</td>\n",
       "    </tr>\n",
       "    <tr>\n",
       "      <th>1</th>\n",
       "      <td>1 janv. 2015 00:00:00 CET   ; 0.0 kW-hr       ...</td>\n",
       "    </tr>\n",
       "    <tr>\n",
       "      <th>2</th>\n",
       "      <td>1 janv. 2015 01:00:00 CET   ; 0.0 kW-hr       ...</td>\n",
       "    </tr>\n",
       "    <tr>\n",
       "      <th>3</th>\n",
       "      <td>1 janv. 2015 02:00:00 CET   ; 0.0 kW-hr       ...</td>\n",
       "    </tr>\n",
       "    <tr>\n",
       "      <th>4</th>\n",
       "      <td>1 janv. 2015 03:00:00 CET   ; 0.0 kW-hr       ...</td>\n",
       "    </tr>\n",
       "  </tbody>\n",
       "</table>\n",
       "</div>"
      ],
      "text/plain": [
       "  timestamp                   ; Achats_PC_divers (kW-hr) ; Achats_chauffage (kW-hr) ; Achats_eclairage (kW-hr) ; Ascenseur1 (kW-hr) ; Ascenseur2 (kW-hr) ; CTA_Achats (kW-hr) ; CTA_Achats_LT (kW-hr) ; CTA_Nord_Cour (kW-hr) ; CTA_Nord_Rue (kW-hr) ; CTA_Sud_Cour (kW-hr) ; CTA_Sud_Rue (kW-hr) ; Calorie_ECS (kW-hr) ; Club_PC_divers (kW-hr) ; Club_chauffage (kW-hr) ; Club_eclairage (kW-hr) ; ECS (kW-hr) ; PAC_Nord (kW-hr) ; PAC_Sud (kW-hr) ; Parking_Ascenseur (kW-hr) ; Parking_Divers (kW-hr) ; Parking_EDF (kW-hr) ; Parking_Eclairage (kW-hr) ; Parking_TGS_Ecl (kW-hr) ; Parking_TGS_Ventil (kW-hr) ; Parking_TGS_Ventil2 (kW-hr) ; Parking_TGS_Ventil3 (kW-hr) ; Parking_Vehicule (kW-hr) ; Parking_Ventilation (kW-hr) ; R1_Nord_PC_divers (kW-hr) ; R1_Nord_chauffage (kW-hr) ; R1_Nord_eclairage (kW-hr) ; R1_Sud_PC_divers (kW-hr) ; R1_Sud_chauffage (kW-hr) ; R1_Sud_eclairage (kW-hr) ; R2_Nord_PC_divers (kW-hr) ; R2_Nord_chauffage (kW-hr) ; R2_Nord_eclairage (kW-hr) ; R2_Sud_PC_divers (kW-hr) ; R2_Sud_chauffage (kW-hr) ; R2_Sud_eclairage (kW-hr) ; R3_Nord_PC_divers (kW-hr) ; R3_Nord_chauffage (kW-hr) ; R3_Nord_eclairage (kW-hr) ; R3_Sud_PC_divers (kW-hr) ; R3_Sud_chauffage (kW-hr) ; R3_Sud_eclairage (kW-hr) ; R4_Nord_PC_divers (kW-hr) ; R4_Nord_chauffage (kW-hr) ; R4_Nord_eclairage (kW-hr) ; R4_Sud_PC_divers (kW-hr) ; R4_Sud_chauffage (kW-hr) ; R4_Sud_eclairage (kW-hr) ; R5_Nord_PC_divers (kW-hr) ; R5_Nord_chauffage (kW-hr) ; R5_Nord_eclairage (kW-hr) ; R5_Sud_PC_divers (kW-hr) ; R5_Sud_chauffage (kW-hr) ; R5_Sud_eclairage (kW-hr) ; Regie_PC_divers (kW-hr) ; Regie_chauffage (kW-hr) ; Regie_eclairage (kW-hr) ; Resto_CTA (kW-hr) ; Resto_EDF (kW-hr) ; Resto_Pompe (kW-hr) ; TGBT_CVC1 (kW-hr) ; TGBT_Ecl_Commun (kW-hr) ; TGBT_PC_Commun (kW-hr) ; TGBT_Resto_Chauf (kW-hr) ; TGBT_Resto_ECS (kW-hr) ; TGBT_Resto_Ecl_1 (kW-hr) ; TGBT_Resto_Ecl_2 (kW-hr) ; TGBT_Resto_Force (kW-hr) ; TGBT_Resto_PC_1 (kW-hr) ; TGBT_Resto_PC_2 (kW-hr) ; TGBT_Tarif_vert (kW-hr) ; Unite_Ext_RIE (kW-hr) ; VRV1 (kW-hr) ; VRV2 (kW-hr) ; TGBT_Resto_Ecl_3 (kW-hr) ; TGBT_Resto_Ecl_4 (kW-hr)\n",
       "0  --------------------------- ; ----------------...                                                                                                                                                                                                                                                                                                                                                                                                                                                                                                                                                                                                                                                                                                                                                                                                                                                                                                                                                                                                                                                                                                                                                                                                                                                                                                                                                                                                                                                                                                                                                                                                                                                                                                                                                                                                                                                                                                                                                                                                                                                                                               \n",
       "1  1 janv. 2015 00:00:00 CET   ; 0.0 kW-hr       ...                                                                                                                                                                                                                                                                                                                                                                                                                                                                                                                                                                                                                                                                                                                                                                                                                                                                                                                                                                                                                                                                                                                                                                                                                                                                                                                                                                                                                                                                                                                                                                                                                                                                                                                                                                                                                                                                                                                                                                                                                                                                                               \n",
       "2  1 janv. 2015 01:00:00 CET   ; 0.0 kW-hr       ...                                                                                                                                                                                                                                                                                                                                                                                                                                                                                                                                                                                                                                                                                                                                                                                                                                                                                                                                                                                                                                                                                                                                                                                                                                                                                                                                                                                                                                                                                                                                                                                                                                                                                                                                                                                                                                                                                                                                                                                                                                                                                               \n",
       "3  1 janv. 2015 02:00:00 CET   ; 0.0 kW-hr       ...                                                                                                                                                                                                                                                                                                                                                                                                                                                                                                                                                                                                                                                                                                                                                                                                                                                                                                                                                                                                                                                                                                                                                                                                                                                                                                                                                                                                                                                                                                                                                                                                                                                                                                                                                                                                                                                                                                                                                                                                                                                                                               \n",
       "4  1 janv. 2015 03:00:00 CET   ; 0.0 kW-hr       ...                                                                                                                                                                                                                                                                                                                                                                                                                                                                                                                                                                                                                                                                                                                                                                                                                                                                                                                                                                                                                                                                                                                                                                                                                                                                                                                                                                                                                                                                                                                                                                                                                                                                                                                                                                                                                                                                                                                                                                                                                                                                                               "
      ]
     },
     "execution_count": 8,
     "metadata": {},
     "output_type": "execute_result"
    }
   ],
   "source": [
    "import pandas as pd\n",
    "import numpy as np\n",
    "df = pd.read_csv('raw_data.csv',skipinitialspace=True)\n",
    "#df.info()\n",
    "#df.describe(include=['object'])\n",
    "#df = df.set_index('name')\n",
    "df.head()\n",
    "#df.born_in.describe()"
   ]
  },
  {
   "cell_type": "code",
   "execution_count": null,
   "metadata": {
    "collapsed": true
   },
   "outputs": [],
   "source": []
  }
 ],
 "metadata": {
  "kernelspec": {
   "display_name": "Python 3",
   "language": "python",
   "name": "python3"
  },
  "language_info": {
   "codemirror_mode": {
    "name": "ipython",
    "version": 3
   },
   "file_extension": ".py",
   "mimetype": "text/x-python",
   "name": "python",
   "nbconvert_exporter": "python",
   "pygments_lexer": "ipython3",
   "version": "3.6.2"
  }
 },
 "nbformat": 4,
 "nbformat_minor": 2
}
